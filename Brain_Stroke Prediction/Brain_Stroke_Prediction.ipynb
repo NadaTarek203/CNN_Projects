{
  "cells": [
    {
      "cell_type": "code",
      "source": [
        "! mkdir ~/.kaggle\n",
        "! cp kaggle.json ~/.kaggle/  # upload gson file to colab\n",
        "! chmod 600 ~/.kaggle/kaggle.json\n",
        "! kaggle datasets download iashiqul/brain-stroke-prediction-ct-scan-image-dataset"
      ],
      "metadata": {
        "colab": {
          "base_uri": "https://localhost:8080/"
        },
        "id": "035u6VXgap8A",
        "outputId": "ed4a2396-7adc-42a1-93c2-ab483fa5c181"
      },
      "id": "035u6VXgap8A",
      "execution_count": null,
      "outputs": [
        {
          "output_type": "stream",
          "name": "stdout",
          "text": [
            "mkdir: cannot create directory ‘/root/.kaggle’: File exists\n",
            "brain-stroke-prediction-ct-scan-image-dataset.zip: Skipping, found more recently modified local copy (use --force to force download)\n"
          ]
        }
      ]
    },
    {
      "cell_type": "code",
      "source": [
        "!unzip '/content/brain-stroke-prediction-ct-scan-image-dataset.zip'"
      ],
      "metadata": {
        "colab": {
          "base_uri": "https://localhost:8080/"
        },
        "id": "6Pmk5WPEcIeK",
        "outputId": "81dbdec3-16ba-41e6-d353-59139511e5e8"
      },
      "id": "6Pmk5WPEcIeK",
      "execution_count": null,
      "outputs": [
        {
          "output_type": "stream",
          "name": "stdout",
          "text": [
            "Archive:  /content/brain-stroke-prediction-ct-scan-image-dataset.zip\n",
            "replace Brain_Stroke_CT-SCAN_image/Test/Normal/100 (14).jpg? [y]es, [n]o, [A]ll, [N]one, [r]ename: "
          ]
        }
      ]
    },
    {
      "cell_type": "code",
      "execution_count": null,
      "id": "8c7d1f2c",
      "metadata": {
        "id": "8c7d1f2c"
      },
      "outputs": [],
      "source": [
        "import tensorflow as tf\n",
        "import matplotlib.pyplot as plt\n",
        "from tensorflow.keras.preprocessing.image import ImageDataGenerator\n",
        "from tensorflow.keras import models,layers\n",
        "from tensorflow.keras.models import Sequential\n",
        "from tensorflow.keras.layers import Conv2D, MaxPooling2D,MaxPool2D, Flatten, Dense, Dropout"
      ]
    },
    {
      "cell_type": "code",
      "execution_count": null,
      "id": "60e9189d",
      "metadata": {
        "id": "60e9189d"
      },
      "outputs": [],
      "source": [
        "Train_path='/content/Brain_Stroke_CT-SCAN_image/Train'\n",
        "Test_path='/content/Brain_Stroke_CT-SCAN_image/Test'\n",
        "Valid_path='/content/Brain_Stroke_CT-SCAN_image/Validation'"
      ]
    },
    {
      "cell_type": "code",
      "execution_count": null,
      "id": "ba039c66",
      "metadata": {
        "id": "ba039c66"
      },
      "outputs": [],
      "source": [
        "TrainData=ImageDataGenerator(\n",
        "    rescale=1./255,\n",
        "    rotation_range=40,\n",
        "    width_shift_range=0.2,\n",
        "    height_shift_range=0.2,\n",
        "    shear_range=0.2,\n",
        "    zoom_range=0.2,\n",
        "    horizontal_flip=True)"
      ]
    },
    {
      "cell_type": "code",
      "execution_count": null,
      "id": "40061ae6",
      "metadata": {
        "colab": {
          "base_uri": "https://localhost:8080/"
        },
        "id": "40061ae6",
        "outputId": "6fac07a7-daaa-4b34-baee-236743bd044f"
      },
      "outputs": [
        {
          "output_type": "stream",
          "name": "stdout",
          "text": [
            "Found 1843 images belonging to 2 classes.\n"
          ]
        }
      ],
      "source": [
        "Training_Data=TrainData.flow_from_directory(\n",
        "    Train_path,\n",
        "    target_size=(224,224),\n",
        "    batch_size=20,\n",
        "    class_mode='categorical'\n",
        ")"
      ]
    },
    {
      "cell_type": "code",
      "source": [
        "ValidData=ImageDataGenerator(rescale=1./255)\n",
        "Validation_Data=ValidData.flow_from_directory(\n",
        "    Valid_path,\n",
        "    target_size=(224,224),\n",
        "    batch_size=20,\n",
        "    class_mode='categorical'\n",
        ")"
      ],
      "metadata": {
        "colab": {
          "base_uri": "https://localhost:8080/"
        },
        "id": "dMJWDQ43dvc-",
        "outputId": "2abe7bfd-4d01-419f-cc74-f131b689dc2d"
      },
      "id": "dMJWDQ43dvc-",
      "execution_count": null,
      "outputs": [
        {
          "output_type": "stream",
          "name": "stdout",
          "text": [
            "Found 235 images belonging to 2 classes.\n"
          ]
        }
      ]
    },
    {
      "cell_type": "code",
      "execution_count": null,
      "id": "c314babe",
      "metadata": {
        "colab": {
          "base_uri": "https://localhost:8080/"
        },
        "id": "c314babe",
        "outputId": "aa661933-5e25-4c2f-d903-4c8cfa1d95de"
      },
      "outputs": [
        {
          "output_type": "stream",
          "name": "stdout",
          "text": [
            "Found 437 images belonging to 2 classes.\n"
          ]
        }
      ],
      "source": [
        "TestData=ImageDataGenerator(rescale=1./255)\n",
        "Testing_Data=TestData.flow_from_directory(\n",
        "    Test_path,\n",
        "    target_size=(224,224),\n",
        "    batch_size=20,\n",
        "    class_mode='categorical'\n",
        ")"
      ]
    },
    {
      "cell_type": "code",
      "execution_count": null,
      "id": "1f66b439",
      "metadata": {
        "id": "1f66b439"
      },
      "outputs": [],
      "source": [
        "train_image,train_labels=next(Training_Data)"
      ]
    },
    {
      "cell_type": "code",
      "execution_count": null,
      "id": "10da0aa9",
      "metadata": {
        "id": "10da0aa9"
      },
      "outputs": [],
      "source": [
        "IMAGE_SIZE=224\n",
        "model = Sequential([\n",
        "    Conv2D(128, (3, 3), activation='relu', input_shape=(224, 224, 3)),\n",
        "    MaxPool2D((2, 2)),\n",
        "    Conv2D(64, (3, 3), activation='relu'),\n",
        "    MaxPool2D((2, 2)),\n",
        "    Conv2D(64, (3, 3), activation='relu'),\n",
        "    MaxPool2D((2, 2)),\n",
        "     Conv2D(64, (3, 3), activation='relu'),\n",
        "    MaxPool2D((2, 2)),\n",
        "    Conv2D(64, (3, 3), activation='relu'),\n",
        "    MaxPool2D((2, 2)),\n",
        "    Conv2D(32, (3, 3), activation='relu'),\n",
        "    MaxPool2D((2, 2)),\n",
        "    Flatten(),\n",
        "    Dropout(0.25),\n",
        "    Dense(10,activation='relu'),\n",
        "    Dense(2, activation='softmax') #sigmoid for binary\n",
        "])"
      ]
    },
    {
      "cell_type": "code",
      "execution_count": null,
      "id": "2fae6dfe",
      "metadata": {
        "id": "2fae6dfe"
      },
      "outputs": [],
      "source": [
        "model.compile(optimizer= 'adam', loss= 'categorical_crossentropy', metrics= ['accuracy'])"
      ]
    },
    {
      "cell_type": "code",
      "execution_count": null,
      "id": "5e1ccdab",
      "metadata": {
        "id": "5e1ccdab",
        "colab": {
          "base_uri": "https://localhost:8080/"
        },
        "outputId": "fc7b6246-d936-40e7-d3f5-0b2f848b42eb"
      },
      "outputs": [
        {
          "output_type": "stream",
          "name": "stdout",
          "text": [
            "Model: \"sequential\"\n",
            "_________________________________________________________________\n",
            " Layer (type)                Output Shape              Param #   \n",
            "=================================================================\n",
            " conv2d (Conv2D)             (None, 222, 222, 128)     3584      \n",
            "                                                                 \n",
            " max_pooling2d (MaxPooling2D  (None, 111, 111, 128)    0         \n",
            " )                                                               \n",
            "                                                                 \n",
            " conv2d_1 (Conv2D)           (None, 109, 109, 64)      73792     \n",
            "                                                                 \n",
            " max_pooling2d_1 (MaxPooling  (None, 54, 54, 64)       0         \n",
            " 2D)                                                             \n",
            "                                                                 \n",
            " conv2d_2 (Conv2D)           (None, 52, 52, 64)        36928     \n",
            "                                                                 \n",
            " max_pooling2d_2 (MaxPooling  (None, 26, 26, 64)       0         \n",
            " 2D)                                                             \n",
            "                                                                 \n",
            " conv2d_3 (Conv2D)           (None, 24, 24, 64)        36928     \n",
            "                                                                 \n",
            " max_pooling2d_3 (MaxPooling  (None, 12, 12, 64)       0         \n",
            " 2D)                                                             \n",
            "                                                                 \n",
            " conv2d_4 (Conv2D)           (None, 10, 10, 64)        36928     \n",
            "                                                                 \n",
            " max_pooling2d_4 (MaxPooling  (None, 5, 5, 64)         0         \n",
            " 2D)                                                             \n",
            "                                                                 \n",
            " conv2d_5 (Conv2D)           (None, 3, 3, 32)          18464     \n",
            "                                                                 \n",
            " max_pooling2d_5 (MaxPooling  (None, 1, 1, 32)         0         \n",
            " 2D)                                                             \n",
            "                                                                 \n",
            " flatten (Flatten)           (None, 32)                0         \n",
            "                                                                 \n",
            " dropout (Dropout)           (None, 32)                0         \n",
            "                                                                 \n",
            " dense (Dense)               (None, 10)                330       \n",
            "                                                                 \n",
            " dense_1 (Dense)             (None, 2)                 22        \n",
            "                                                                 \n",
            "=================================================================\n",
            "Total params: 206,976\n",
            "Trainable params: 206,976\n",
            "Non-trainable params: 0\n",
            "_________________________________________________________________\n"
          ]
        }
      ],
      "source": [
        "model.summary()"
      ]
    },
    {
      "cell_type": "code",
      "execution_count": null,
      "id": "2cd8dd08",
      "metadata": {
        "id": "2cd8dd08",
        "colab": {
          "base_uri": "https://localhost:8080/"
        },
        "outputId": "dfda2fe8-d699-4958-820a-049ad38b5b44"
      },
      "outputs": [
        {
          "output_type": "stream",
          "name": "stdout",
          "text": [
            "Epoch 1/50\n",
            "93/93 [==============================] - 35s 335ms/step - loss: 0.6861 - accuracy: 0.5719 - val_loss: 0.6672 - val_accuracy: 0.6681\n",
            "Epoch 2/50\n",
            "93/93 [==============================] - 25s 263ms/step - loss: 0.6805 - accuracy: 0.5898 - val_loss: 0.6582 - val_accuracy: 0.6681\n",
            "Epoch 3/50\n",
            "93/93 [==============================] - 24s 262ms/step - loss: 0.6781 - accuracy: 0.5898 - val_loss: 0.6506 - val_accuracy: 0.6681\n",
            "Epoch 4/50\n",
            "93/93 [==============================] - 25s 268ms/step - loss: 0.6783 - accuracy: 0.5898 - val_loss: 0.6506 - val_accuracy: 0.6681\n",
            "Epoch 5/50\n",
            "93/93 [==============================] - 24s 263ms/step - loss: 0.6792 - accuracy: 0.5898 - val_loss: 0.6536 - val_accuracy: 0.6681\n",
            "Epoch 6/50\n",
            "93/93 [==============================] - 24s 263ms/step - loss: 0.6769 - accuracy: 0.5898 - val_loss: 0.6433 - val_accuracy: 0.6681\n",
            "Epoch 7/50\n",
            "93/93 [==============================] - 24s 261ms/step - loss: 0.6778 - accuracy: 0.5882 - val_loss: 0.6484 - val_accuracy: 0.6681\n",
            "Epoch 8/50\n",
            "93/93 [==============================] - 24s 262ms/step - loss: 0.6778 - accuracy: 0.5898 - val_loss: 0.6486 - val_accuracy: 0.6681\n",
            "Epoch 9/50\n",
            "93/93 [==============================] - 26s 274ms/step - loss: 0.6766 - accuracy: 0.5898 - val_loss: 0.6453 - val_accuracy: 0.6681\n",
            "Epoch 10/50\n",
            "93/93 [==============================] - 24s 263ms/step - loss: 0.6771 - accuracy: 0.5909 - val_loss: 0.6489 - val_accuracy: 0.6681\n",
            "Epoch 11/50\n",
            "93/93 [==============================] - 25s 264ms/step - loss: 0.6780 - accuracy: 0.5903 - val_loss: 0.6475 - val_accuracy: 0.6681\n",
            "Epoch 12/50\n",
            "93/93 [==============================] - 24s 262ms/step - loss: 0.6778 - accuracy: 0.5887 - val_loss: 0.6551 - val_accuracy: 0.6681\n",
            "Epoch 13/50\n",
            "93/93 [==============================] - 24s 261ms/step - loss: 0.6772 - accuracy: 0.5898 - val_loss: 0.6482 - val_accuracy: 0.6681\n",
            "Epoch 14/50\n",
            "93/93 [==============================] - 24s 262ms/step - loss: 0.6770 - accuracy: 0.5898 - val_loss: 0.6489 - val_accuracy: 0.6681\n",
            "Epoch 15/50\n",
            "93/93 [==============================] - 24s 262ms/step - loss: 0.6775 - accuracy: 0.5898 - val_loss: 0.6491 - val_accuracy: 0.6681\n",
            "Epoch 16/50\n",
            "93/93 [==============================] - 24s 261ms/step - loss: 0.6774 - accuracy: 0.5898 - val_loss: 0.6459 - val_accuracy: 0.6681\n",
            "Epoch 17/50\n",
            "93/93 [==============================] - 24s 263ms/step - loss: 0.6773 - accuracy: 0.5898 - val_loss: 0.6469 - val_accuracy: 0.6681\n",
            "Epoch 18/50\n",
            "93/93 [==============================] - 25s 273ms/step - loss: 0.6772 - accuracy: 0.5898 - val_loss: 0.6478 - val_accuracy: 0.6681\n",
            "Epoch 19/50\n",
            "93/93 [==============================] - 24s 261ms/step - loss: 0.6772 - accuracy: 0.5898 - val_loss: 0.6500 - val_accuracy: 0.6681\n",
            "Epoch 20/50\n",
            "93/93 [==============================] - 24s 260ms/step - loss: 0.6771 - accuracy: 0.5898 - val_loss: 0.6494 - val_accuracy: 0.6681\n",
            "Epoch 21/50\n",
            "93/93 [==============================] - 24s 261ms/step - loss: 0.6774 - accuracy: 0.5898 - val_loss: 0.6486 - val_accuracy: 0.6681\n",
            "Epoch 22/50\n",
            "93/93 [==============================] - 24s 262ms/step - loss: 0.6771 - accuracy: 0.5898 - val_loss: 0.6487 - val_accuracy: 0.6681\n",
            "Epoch 23/50\n",
            "93/93 [==============================] - 24s 261ms/step - loss: 0.6769 - accuracy: 0.5898 - val_loss: 0.6482 - val_accuracy: 0.6681\n",
            "Epoch 24/50\n",
            "93/93 [==============================] - 24s 260ms/step - loss: 0.6770 - accuracy: 0.5898 - val_loss: 0.6485 - val_accuracy: 0.6681\n",
            "Epoch 25/50\n",
            "93/93 [==============================] - 24s 261ms/step - loss: 0.6771 - accuracy: 0.5898 - val_loss: 0.6471 - val_accuracy: 0.6681\n",
            "Epoch 26/50\n",
            "93/93 [==============================] - 24s 259ms/step - loss: 0.6770 - accuracy: 0.5898 - val_loss: 0.6485 - val_accuracy: 0.6681\n",
            "Epoch 27/50\n",
            "93/93 [==============================] - 25s 271ms/step - loss: 0.6769 - accuracy: 0.5898 - val_loss: 0.6485 - val_accuracy: 0.6681\n",
            "Epoch 28/50\n",
            "93/93 [==============================] - 24s 260ms/step - loss: 0.6774 - accuracy: 0.5898 - val_loss: 0.6491 - val_accuracy: 0.6681\n",
            "Epoch 29/50\n",
            "93/93 [==============================] - 24s 259ms/step - loss: 0.6772 - accuracy: 0.5898 - val_loss: 0.6499 - val_accuracy: 0.6681\n",
            "Epoch 30/50\n",
            "93/93 [==============================] - 24s 260ms/step - loss: 0.6772 - accuracy: 0.5898 - val_loss: 0.6490 - val_accuracy: 0.6681\n",
            "Epoch 31/50\n",
            "93/93 [==============================] - 24s 260ms/step - loss: 0.6772 - accuracy: 0.5898 - val_loss: 0.6480 - val_accuracy: 0.6681\n",
            "Epoch 32/50\n",
            "93/93 [==============================] - 24s 260ms/step - loss: 0.6772 - accuracy: 0.5898 - val_loss: 0.6480 - val_accuracy: 0.6681\n",
            "Epoch 33/50\n",
            "93/93 [==============================] - 24s 260ms/step - loss: 0.6771 - accuracy: 0.5898 - val_loss: 0.6488 - val_accuracy: 0.6681\n",
            "Epoch 34/50\n",
            "93/93 [==============================] - 24s 263ms/step - loss: 0.6770 - accuracy: 0.5898 - val_loss: 0.6503 - val_accuracy: 0.6681\n",
            "Epoch 35/50\n",
            "93/93 [==============================] - 25s 263ms/step - loss: 0.6773 - accuracy: 0.5898 - val_loss: 0.6501 - val_accuracy: 0.6681\n",
            "Epoch 36/50\n",
            "93/93 [==============================] - 26s 274ms/step - loss: 0.6771 - accuracy: 0.5898 - val_loss: 0.6487 - val_accuracy: 0.6681\n",
            "Epoch 37/50\n",
            "93/93 [==============================] - 25s 268ms/step - loss: 0.6771 - accuracy: 0.5898 - val_loss: 0.6469 - val_accuracy: 0.6681\n",
            "Epoch 38/50\n",
            "93/93 [==============================] - 25s 267ms/step - loss: 0.6774 - accuracy: 0.5898 - val_loss: 0.6482 - val_accuracy: 0.6681\n",
            "Epoch 39/50\n",
            "93/93 [==============================] - 24s 261ms/step - loss: 0.6772 - accuracy: 0.5898 - val_loss: 0.6495 - val_accuracy: 0.6681\n",
            "Epoch 40/50\n",
            "93/93 [==============================] - 25s 265ms/step - loss: 0.6770 - accuracy: 0.5898 - val_loss: 0.6479 - val_accuracy: 0.6681\n",
            "Epoch 41/50\n",
            "93/93 [==============================] - 25s 267ms/step - loss: 0.6771 - accuracy: 0.5898 - val_loss: 0.6477 - val_accuracy: 0.6681\n",
            "Epoch 42/50\n",
            "93/93 [==============================] - 25s 271ms/step - loss: 0.6772 - accuracy: 0.5898 - val_loss: 0.6486 - val_accuracy: 0.6681\n",
            "Epoch 43/50\n",
            "93/93 [==============================] - 25s 269ms/step - loss: 0.6771 - accuracy: 0.5898 - val_loss: 0.6471 - val_accuracy: 0.6681\n",
            "Epoch 44/50\n",
            "93/93 [==============================] - 24s 262ms/step - loss: 0.6773 - accuracy: 0.5898 - val_loss: 0.6487 - val_accuracy: 0.6681\n",
            "Epoch 45/50\n",
            "93/93 [==============================] - 24s 262ms/step - loss: 0.6769 - accuracy: 0.5898 - val_loss: 0.6485 - val_accuracy: 0.6681\n",
            "Epoch 46/50\n",
            "93/93 [==============================] - 25s 270ms/step - loss: 0.6772 - accuracy: 0.5898 - val_loss: 0.6493 - val_accuracy: 0.6681\n",
            "Epoch 47/50\n",
            "93/93 [==============================] - 25s 263ms/step - loss: 0.6772 - accuracy: 0.5898 - val_loss: 0.6490 - val_accuracy: 0.6681\n",
            "Epoch 48/50\n",
            "93/93 [==============================] - 25s 265ms/step - loss: 0.6772 - accuracy: 0.5898 - val_loss: 0.6490 - val_accuracy: 0.6681\n",
            "Epoch 49/50\n",
            "93/93 [==============================] - 25s 263ms/step - loss: 0.6770 - accuracy: 0.5898 - val_loss: 0.6480 - val_accuracy: 0.6681\n",
            "Epoch 50/50\n",
            "93/93 [==============================] - 24s 261ms/step - loss: 0.6772 - accuracy: 0.5898 - val_loss: 0.6491 - val_accuracy: 0.6681\n"
          ]
        }
      ],
      "source": [
        "batch_size = 100\n",
        "EPOCHS=50\n",
        "hist = model.fit(Training_Data,\n",
        "                  epochs=EPOCHS,\n",
        "                 batch_size=batch_size,\n",
        "                 verbose=1,\n",
        "                 validation_data=Validation_Data \n",
        "                )"
      ]
    },
    {
      "cell_type": "code",
      "execution_count": null,
      "id": "5e00cd5b",
      "metadata": {
        "id": "5e00cd5b",
        "colab": {
          "base_uri": "https://localhost:8080/"
        },
        "outputId": "b0fdaff1-de1c-4d7c-ba12-08439dd1ffbc"
      },
      "outputs": [
        {
          "output_type": "stream",
          "name": "stdout",
          "text": [
            "22/22 [==============================] - 2s 83ms/step - loss: 0.6368 - accuracy: 0.7025\n"
          ]
        }
      ],
      "source": [
        "test_score = model.evaluate(Testing_Data)\n"
      ]
    },
    {
      "cell_type": "code",
      "execution_count": null,
      "id": "8fc847c1",
      "metadata": {
        "id": "8fc847c1"
      },
      "outputs": [],
      "source": [
        "from sklearn.metrics import confusion_matrix\n",
        "import numpy as np\n",
        "import itertools"
      ]
    },
    {
      "cell_type": "code",
      "source": [
        "batch_size = 100\n",
        "target_names = ['Normal','Stroke']  # data labels\n",
        "Y_pred = model.predict_generator(Testing_Data)\n",
        "y_pred = np.argmax(Y_pred, axis=1)\n",
        "print(y_pred)"
      ],
      "metadata": {
        "id": "y3Qjpr4Yu1zZ",
        "colab": {
          "base_uri": "https://localhost:8080/"
        },
        "outputId": "34bd7307-4485-41f4-9b87-c823feafafa4"
      },
      "id": "y3Qjpr4Yu1zZ",
      "execution_count": null,
      "outputs": [
        {
          "output_type": "stream",
          "name": "stderr",
          "text": [
            "<ipython-input-16-aa63226341b0>:3: UserWarning: `Model.predict_generator` is deprecated and will be removed in a future version. Please use `Model.predict`, which supports generators.\n",
            "  Y_pred = model.predict_generator(Testing_Data)\n"
          ]
        },
        {
          "output_type": "stream",
          "name": "stdout",
          "text": [
            "[0 0 0 0 0 0 0 0 0 0 0 0 0 0 0 0 0 0 0 0 0 0 0 0 0 0 0 0 0 0 0 0 0 0 0 0 0\n",
            " 0 0 0 0 0 0 0 0 0 0 0 0 0 0 0 0 0 0 0 0 0 0 0 0 0 0 0 0 0 0 0 0 0 0 0 0 0\n",
            " 0 0 0 0 0 0 0 0 0 0 0 0 0 0 0 0 0 0 0 0 0 0 0 0 0 0 0 0 0 0 0 0 0 0 0 0 0\n",
            " 0 0 0 0 0 0 0 0 0 0 0 0 0 0 0 0 0 0 0 0 0 0 0 0 0 0 0 0 0 0 0 0 0 0 0 0 0\n",
            " 0 0 0 0 0 0 0 0 0 0 0 0 0 0 0 0 0 0 0 0 0 0 0 0 0 0 0 0 0 0 0 0 0 0 0 0 0\n",
            " 0 0 0 0 0 0 0 0 0 0 0 0 0 0 0 0 0 0 0 0 0 0 0 0 0 0 0 0 0 0 0 0 0 0 0 0 0\n",
            " 0 0 0 0 0 0 0 0 0 0 0 0 0 0 0 0 0 0 0 0 0 0 0 0 0 0 0 0 0 0 0 0 0 0 0 0 0\n",
            " 0 0 0 0 0 0 0 0 0 0 0 0 0 0 0 0 0 0 0 0 0 0 0 0 0 0 0 0 0 0 0 0 0 0 0 0 0\n",
            " 0 0 0 0 0 0 0 0 0 0 0 0 0 0 0 0 0 0 0 0 0 0 0 0 0 0 0 0 0 0 0 0 0 0 0 0 0\n",
            " 0 0 0 0 0 0 0 0 0 0 0 0 0 0 0 0 0 0 0 0 0 0 0 0 0 0 0 0 0 0 0 0 0 0 0 0 0\n",
            " 0 0 0 0 0 0 0 0 0 0 0 0 0 0 0 0 0 0 0 0 0 0 0 0 0 0 0 0 0 0 0 0 0 0 0 0 0\n",
            " 0 0 0 0 0 0 0 0 0 0 0 0 0 0 0 0 0 0 0 0 0 0 0 0 0 0 0 0 0 0]\n"
          ]
        }
      ]
    },
    {
      "cell_type": "code",
      "source": [
        "cm = confusion_matrix(Testing_Data.classes, y_pred)\n",
        "\n",
        "def plot_confusion_matrix(cm, classes, normalize=False, title='Confusion Matrix', cmap = plt.cm.Blues):\n",
        "    plt.figure(figsize=(10, 10))\n",
        "    plt.imshow(cm, interpolation='nearest', cmap=cmap)\n",
        "    plt.title(title)\n",
        "    plt.colorbar()\n",
        "    tick_marks = np.arange(len(classes))\n",
        "    plt.xticks(tick_marks, classes, rotation=45)\n",
        "    plt.yticks(tick_marks, classes)\n",
        "\n",
        "    if normalize:\n",
        "        cm = cm.astype('float') / cm.sum(axis=1)[:, np.newaxis]\n",
        "        print('Normalized Confusion Matrix')\n",
        "    else:\n",
        "        print('Confusion Matrix, Without Normalization')\n",
        "    \n",
        "    print(cm)\n",
        "\n",
        "    thresh = cm.max() / 2.\n",
        "    for i, j in itertools.product(range(cm.shape[0]), range(cm.shape[1])):\n",
        "        plt.text(j, i, cm[i, j], horizontalalignment='center', color = 'white' if cm[i, j] > thresh else 'black')\n",
        "\n",
        "    plt.tight_layout()\n",
        "    plt.ylabel('True Label')\n",
        "    plt.xlabel('Predicted Label')"
      ],
      "metadata": {
        "id": "7Le7jmmFtPPA"
      },
      "id": "7Le7jmmFtPPA",
      "execution_count": null,
      "outputs": []
    },
    {
      "cell_type": "code",
      "source": [
        "cm=confusion_matrix(Testing_Data.classes,y_pred)"
      ],
      "metadata": {
        "id": "2Jp4Ltx4uHjb"
      },
      "id": "2Jp4Ltx4uHjb",
      "execution_count": null,
      "outputs": []
    },
    {
      "cell_type": "code",
      "source": [
        "target_names=['Normal','Stroke']\n",
        "plot_confusion_matrix(cm=cm, classes=target_names, title = 'Confusion Matrix')"
      ],
      "metadata": {
        "id": "hKuqTTYjta70",
        "colab": {
          "base_uri": "https://localhost:8080/",
          "height": 781
        },
        "outputId": "bf603876-4f81-4687-d1c2-277e639beab1"
      },
      "id": "hKuqTTYjta70",
      "execution_count": null,
      "outputs": [
        {
          "output_type": "stream",
          "name": "stdout",
          "text": [
            "Confusion Matrix, Without Normalization\n",
            "[[307   0]\n",
            " [130   0]]\n"
          ]
        },
        {
          "output_type": "display_data",
          "data": {
            "text/plain": [
              "<Figure size 720x720 with 2 Axes>"
            ],
            "image/png": "[encoded data removed]"
          },
          "metadata": {
            "needs_background": "light"
          }
        }
      ]
    },
    {
      "cell_type": "code",
      "source": [],
      "metadata": {
        "id": "rI9M8n_ttzas"
      },
      "id": "rI9M8n_ttzas",
      "execution_count": null,
      "outputs": []
    }
  ],
  "metadata": {
    "kernelspec": {
      "display_name": "Python 3 (ipykernel)",
      "language": "python",
      "name": "python3"
    },
    "language_info": {
      "codemirror_mode": {
        "name": "ipython",
        "version": 3
      },
      "file_extension": ".py",
      "mimetype": "text/x-python",
      "name": "python",
      "nbconvert_exporter": "python",
      "pygments_lexer": "ipython3",
      "version": "3.9.12"
    },
    "colab": {
      "provenance": []
    },
    "accelerator": "GPU",
    "gpuClass": "standard"
  },
  "nbformat": 4,
  "nbformat_minor": 5
}